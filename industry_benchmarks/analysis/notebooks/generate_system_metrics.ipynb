{
 "cells": [
  {
   "cell_type": "markdown",
   "id": "3ca4e72b",
   "metadata": {},
   "source": [
    "Generate accuracy and corelation metrics for each of the public and private systems using cinnabar and write them to a csv file.\n",
    "The metrics will be calculated on the MLE derived DG values, the all-to-all pairwise RMSE on the DDG values will also be included"
   ]
  },
  {
   "cell_type": "code",
   "execution_count": null,
   "id": "aa77ce47",
   "metadata": {},
   "outputs": [],
   "source": [
    "import pandas as pd\n",
    "from cinnabar import stats"
   ]
  },
  {
   "cell_type": "code",
   "execution_count": null,
   "id": "e4264afa",
   "metadata": {},
   "outputs": [],
   "source": [
    "# load the public and private DG data, fix the rerun data for the pfkfb3 system\n",
    "public_dg_data = pd.read_csv(\"https://raw.githubusercontent.com/OpenFreeEnergy/IndustryBenchmarks2024/refs/heads/main/industry_benchmarks/analysis/processed_results/combined_pymbar3_calculated_dg_data.csv\")\n",
    "rerun_dg_data = pd.read_csv(\"https://raw.githubusercontent.com/OpenFreeEnergy/IndustryBenchmarks2024/refs/heads/main/industry_benchmarks/analysis/processed_results/reruns/rerun_pymbar3_calculated_dg_data.csv\")\n",
    "private_dg_data = pd.read_csv(\"https://raw.githubusercontent.com/OpenFreeEnergy/IndustryBenchmarks2024/refs/heads/main/industry_benchmarks/analysis/private_processed_results/combined_pymbar3_calculated_dg_data.csv\")\n",
    "public_dg_data = public_dg_data[(public_dg_data[\"system name\"] != \"pfkfb3\") ]\n",
    "public_dg_data = pd.concat([public_dg_data, rerun_dg_data], ignore_index=True)"
   ]
  },
  {
   "cell_type": "code",
   "execution_count": null,
   "id": "fad57c5b",
   "metadata": {},
   "outputs": [],
   "source": [
    "# define the issues with the ligands for the private systems\n",
    "issue_ligands = {\n",
    "    (\"GSK\", \"GSK_PRIVATE_1\"): {\"tautomer\": [\"ligand23\", \"ligand18\"], \"enantiomer\":[\"ligand9\"]},\n",
    "    (\"Janssen\", \"systemD_set1\"): {\"tautomer\": [\"ligand36\", \"ligand1\"], \"enantiomer\": [\"ligand54\"], \"assay\": [\"ligand44\", \"ligand23\", \"ligand45\", \"ligand25\", \"ligand18\", \"ligand19\", \"ligand32\"]},\n",
    "    (\"Merck\", \"merck_private_T\"): {\"enantiomer\": [\"ligand30\"], \"assay\": [\"ligand9\", \"ligand31\", \"ligand14\", \"ligand6\"]},\n",
    "    (\"EliLilly\", \"Project0\"): {\"conformers\": [\"ligand1\"]},\n",
    "    (\"Janssen\", \"systemB_set1\"): {\"enantiomer\": [\"ligand0\", \"ligand7\", \"ligand4\", \"ligand10\", \"ligand17\", \"ligand18\"]},\n",
    "    (\"Merck\", \"merck_private_G\"): {\"conformers\": [\"ligand23\"]},\n",
    "    (\"Roche\", \"target_A\"): {\"enantiomer\": [\"ligand0\"], \"assay\": [\"ligand3\", \"ligand15\", \"ligand14\", \"ligand23\", \"ligand11\", \"ligand18\", \"ligand13\", \"ligand17\", \"ligand25\", \"ligand10\"]},\n",
    "    (\"Roche\", \"target_B\"): {\"assay\": [\"ligand3\", \"ligand4\"]},\n",
    "    (\"Roche\", \"target_C_set1\"): {\"conformers\": [\"ligand16\",], \"assay\": [\"ligand17\", \"ligand18\"]},\n",
    "    (\"Roche\", \"target_C_set5\"): {\"tautomer\": [\"ligand12\", \"ligand6\"], \"enantiomer\": [\"ligand33\", \"ligand7\"]},\n",
    "    (\"Roche\", \"target_D\"): {\"enantiomer\": [\"ligand9\"], \"assay\": [\"ligand3\", \"ligand5\"]}\n",
    "}\n"
   ]
  },
  {
   "cell_type": "code",
   "execution_count": null,
   "id": "9c60931b",
   "metadata": {},
   "outputs": [],
   "source": [
    "def calculate_statistics(dg_data, public: bool = True, issue_table = None):\n",
    "    \"\"\"\n",
    "    Calculate statistics for the given DG data.\n",
    "    \"\"\"\n",
    "    if public:\n",
    "        system_group = \"system group\"\n",
    "        system_name = \"system name\"\n",
    "    else:\n",
    "        system_group = \"partner_id\"\n",
    "        system_name = \"dataset_name\"\n",
    "    \n",
    "    all_systems_data = []\n",
    "    for system in dg_data[system_group].unique():\n",
    "        system_df = dg_data[dg_data[system_group] == system].copy(deep=True).reset_index(drop=True)\n",
    "        targets = system_df[system_name].unique()\n",
    "        for target in targets:\n",
    "            print(f\"Calculating statistics for system: {system}, target: {target}\")\n",
    "            target_df = system_df[system_df[system_name] == target].copy(deep=True).reset_index(drop=True)\n",
    "            # check if we need to filter out any issues\n",
    "            if issue_table is not None and not public:\n",
    "                # try and look up issues for this target\n",
    "                issues = issue_table.get((system, target), {})\n",
    "                for issue_type, issue_list in issues.items():\n",
    "                    if \"assay\" not in issue_type:\n",
    "                        # filter out the issues\n",
    "                        print(f\"Filtering out issues for {system} {target}: {issue_type} {issue_list}\")\n",
    "                        target_df = target_df[~target_df[\"ligand name\"].isin(issue_list)].reset_index(drop=True)\n",
    "                    if \"assay\" in issue_type:\n",
    "                        print(\"Fixing assay issues for\", system, target, issue_type, issue_list)\n",
    "                        # we want to adjust the predicted values based on the following logic:\n",
    "                        # if  the assay limit is the lower detection limit (larger DG value) and we predict a value above that set the predicted value to the assay limit\n",
    "                        # as the prediction is qulalitativly correct and should not be penalized\n",
    "                        # if we predict a more potent ligand then keep the prediction as is\n",
    "                        for ligand in issue_list:\n",
    "                            ligand_df = target_df[target_df[\"ligand name\"] == ligand]\n",
    "                            if ligand_df[\"DG (kcal/mol)\"].values[0] > ligand_df[\"Exp DG (kcal/mol)\"].values[0]:\n",
    "                                # set the predicted value to the assay limit\n",
    "                                target_df.loc[target_df[\"ligand name\"] == ligand, \"DG (kcal/mol)\"] = ligand_df[\"Exp DG (kcal/mol)\"].values[0]\n",
    "\n",
    "\n",
    "            n_ligands = len(target_df)\n",
    "            dg_range = abs(target_df[\"Exp DG (kcal/mol)\"].max() - target_df[\"Exp DG (kcal/mol)\"].min())\n",
    "            hahn_system = True if n_ligands >= 16 and dg_range >= 3.0 else False\n",
    "            system_data = {\n",
    "                \"system group\": system,\n",
    "                \"system name\": target,\n",
    "                \"N_ligands\": n_ligands,\n",
    "                \"DG range\": dg_range,\n",
    "                \"Hahn system\": hahn_system,\n",
    "            }\n",
    "            metrics = [\"RAE\", \"RMSE\", \"MUE\"]\n",
    "            if hahn_system:\n",
    "                metrics += [\"R2\", \"KTAU\", \"rho\"]\n",
    "            \n",
    "            for metric in metrics:\n",
    "                s = stats.bootstrap_statistic(\n",
    "                    y_true=target_df[\"Exp DG (kcal/mol)\"].values,\n",
    "                    y_pred=target_df[\"DG (kcal/mol)\"].values,\n",
    "                    dy_true=target_df[\"Exp dDG (kcal/mol)\"].values,\n",
    "                    dy_pred=target_df[\"uncertainty (kcal/mol)\"].values,\n",
    "                    statistic=metric,\n",
    "                    nbootstrap=1000,\n",
    "                    ci=0.95\n",
    "                )\n",
    "                system_data[metric] = s[\"mle\"]\n",
    "                system_data[f\"{metric} lower\"] = s[\"low\"]\n",
    "                system_data[f\"{metric} upper\"] = s[\"high\"]\n",
    "            \n",
    "            # calculate the all-to-all pairwise DDG values\n",
    "            exp_values, calculated_values = [], []\n",
    "            ligands = target_df[\"ligand name\"].unique()\n",
    "            for i, ligand1 in enumerate(ligands):\n",
    "                for j, ligand2 in enumerate(ligands):\n",
    "                    if i >= j:\n",
    "                        continue\n",
    "                    exp_ligand1 = target_df[target_df[\"ligand name\"] == ligand1][\"Exp DG (kcal/mol)\"].values[0]\n",
    "                    exp_ligand2 = target_df[target_df[\"ligand name\"] == ligand2][\"Exp DG (kcal/mol)\"].values[0]\n",
    "                    exp_diff = exp_ligand2 - exp_ligand1\n",
    "                    calculated_ligand1 = target_df[target_df[\"ligand name\"] == ligand1][\"DG (kcal/mol)\"].values[0]\n",
    "                    calculated_ligand2 = target_df[target_df[\"ligand name\"] == ligand2][\"DG (kcal/mol)\"].values[0]\n",
    "                    calculated_diff = calculated_ligand2 - calculated_ligand1\n",
    "                    exp_values.append(exp_diff)\n",
    "                    calculated_values.append(calculated_diff)\n",
    "\n",
    "            s = stats.bootstrap_statistic(\n",
    "                y_true=exp_values,\n",
    "                y_pred=calculated_values,\n",
    "                dy_true=None,\n",
    "                dy_pred=None,\n",
    "                statistic=\"RMSE\",\n",
    "                nbootstrap=1000,\n",
    "                ci=0.95\n",
    "            )\n",
    "            system_data[\"all-toall DDG RMSE\"] = s[\"mle\"]\n",
    "            system_data[\"all-toall DDG RMSE lower\"] = s[\"low\"]\n",
    "            system_data[\"all-toall DDG RMSE upper\"] = s[\"high\"]\n",
    "            all_systems_data.append(system_data)\n",
    "    all_systems_df = pd.DataFrame(all_systems_data)\n",
    "    return all_systems_df\n",
    "                "
   ]
  },
  {
   "cell_type": "code",
   "execution_count": null,
   "id": "13723cf7",
   "metadata": {},
   "outputs": [],
   "source": [
    "public_statistics = calculate_statistics(public_dg_data)"
   ]
  },
  {
   "cell_type": "code",
   "execution_count": null,
   "id": "653db805",
   "metadata": {},
   "outputs": [],
   "source": [
    "public_statistics.to_csv(\"public_dataset_statistics.csv\", index=False)"
   ]
  },
  {
   "cell_type": "code",
   "execution_count": null,
   "id": "a64b2adf",
   "metadata": {},
   "outputs": [],
   "source": [
    "private_statistics = calculate_statistics(private_dg_data, public=False)"
   ]
  },
  {
   "cell_type": "code",
   "execution_count": null,
   "id": "3fd0e718",
   "metadata": {},
   "outputs": [],
   "source": [
    "private_statistics"
   ]
  },
  {
   "cell_type": "code",
   "execution_count": null,
   "id": "cc9f1b13",
   "metadata": {},
   "outputs": [],
   "source": [
    "private_statistics.to_csv(\"private_dataset_statistics.csv\", index=False)"
   ]
  },
  {
   "cell_type": "markdown",
   "id": "80335ed7",
   "metadata": {},
   "source": [
    "We need to clean up the private datasets, and create another version of the dataframe where we remove conformer, stereo and tautomer issues.\n",
    "Assay limit issues will be integrated into the error calculation. First create a table to remove the issue ligands."
   ]
  },
  {
   "cell_type": "code",
   "execution_count": null,
   "id": "dcd4e745",
   "metadata": {},
   "outputs": [],
   "source": [
    "# try again with private data removing the issue molecules\n",
    "private_statistics_filtered = calculate_statistics(private_dg_data, public=False, issue_table=issue_ligands)"
   ]
  },
  {
   "cell_type": "code",
   "execution_count": null,
   "id": "1cb74b3a",
   "metadata": {},
   "outputs": [],
   "source": [
    "# write the filtered private statistics to a CSV file\n",
    "private_statistics_filtered.to_csv(\"private_dataset_statistics_filtered.csv\", index=False)"
   ]
  }
 ],
 "metadata": {
  "kernelspec": {
   "display_name": "asapdiscovery",
   "language": "python",
   "name": "python3"
  },
  "language_info": {
   "codemirror_mode": {
    "name": "ipython",
    "version": 3
   },
   "file_extension": ".py",
   "mimetype": "text/x-python",
   "name": "python",
   "nbconvert_exporter": "python",
   "pygments_lexer": "ipython3",
   "version": "3.11.11"
  }
 },
 "nbformat": 4,
 "nbformat_minor": 5
}
